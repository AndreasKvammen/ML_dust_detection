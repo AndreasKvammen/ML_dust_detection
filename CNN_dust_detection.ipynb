{
 "cells": [
  {
   "cell_type": "markdown",
   "id": "55cfdafe-b2d5-4285-aa83-6462ec319105",
   "metadata": {},
   "source": [
    "1 - Import needed libaries and functions "
   ]
  },
  {
   "cell_type": "code",
   "execution_count": null,
   "id": "ee9e67de-5659-4163-a1b8-f5021b5661b1",
   "metadata": {},
   "outputs": [],
   "source": [
    "import numpy as np\n",
    "import pandas as pd\n",
    "from tensorflow import keras\n",
    "import tensorflow as tf\n",
    "import matplotlib.pyplot as plt\n",
    "import torch as th"
   ]
  },
  {
   "cell_type": "markdown",
   "id": "cbf414a7-7641-499f-be4f-b782adb8392e",
   "metadata": {},
   "source": [
    "2 - Import training/testing data and labels"
   ]
  },
  {
   "cell_type": "code",
   "execution_count": 2,
   "id": "d6904a6f-a316-4930-9b7d-51aa31ca9203",
   "metadata": {},
   "outputs": [],
   "source": [
    "# Import training data (2400 observatios, each with dimension 12288)\n",
    "X_train = pd.read_csv(\"/Users/akv020/Projects/ML classification of dust/Dataverse/Train_and_test_data/Train_data.csv\",header=None)\n",
    "# Import testing data (600 observatios, each with dimension 12288)\n",
    "X_test = pd.read_csv(\"/Users/akv020/Projects/ML classification of dust/Dataverse/Train_and_test_data/Test_data.csv\",header=None)\n",
    "\n",
    "# Import 2400 training labels and 600 testing labels\n",
    "Y_train = pd.read_csv(\"/Users/akv020/Projects/ML classification of dust/Dataverse/Train_and_test_data/Train_labels.csv\",header=None)\n",
    "Y_test = pd.read_csv(\"/Users/akv020/Projects/ML classification of dust/Dataverse/Train_and_test_data/Test_labels.csv\",header=None)"
   ]
  },
  {
   "cell_type": "markdown",
   "id": "7b3a63a4-a4fd-4517-a7d5-2b5aaea86991",
   "metadata": {},
   "source": [
    "3 - Reshape training and testing data to dimension (3x4096) to account for the 3 antenna measurements "
   ]
  },
  {
   "cell_type": "code",
   "execution_count": 4,
   "id": "55d32665-146d-4bae-b43c-d528398151f1",
   "metadata": {},
   "outputs": [
    {
     "name": "stdout",
     "output_type": "stream",
     "text": [
      "Imported data size: \n",
      "(2400, 12288)\n",
      "(600, 12288)\n",
      "Reshaped data size: \n",
      "(2400, 4096, 3)\n",
      "(600, 4096, 3)\n"
     ]
    }
   ],
   "source": [
    "print('Imported data size: ')\n",
    "print(X_train.shape)\n",
    "print(X_test.shape)\n",
    "\n",
    "sz = X_train.shape\n",
    "L = int(sz[1]/3)\n",
    "X_train = X_train.to_numpy().reshape(2400,L, 3)\n",
    "X_test = X_test.to_numpy().reshape(600,L, 3)\n",
    "\n",
    "print('Reshaped data size: ')\n",
    "print(X_train.shape)\n",
    "print(X_test.shape)"
   ]
  },
  {
   "cell_type": "markdown",
   "id": "d5404ad0-30f6-430c-a583-0f1745e00eb9",
   "metadata": {},
   "source": [
    "5 - Plot an example of a dust impact signal"
   ]
  },
  {
   "cell_type": "code",
   "execution_count": 10,
   "id": "bfc29d06-56b3-48cf-af90-9682a411754d",
   "metadata": {},
   "outputs": [
    {
     "data": {
      "image/png": "[encoded data removed]",
      "text/plain": [
       "<Figure size 432x288 with 1 Axes>"
      ]
     },
     "metadata": {
      "needs_background": "light"
     },
     "output_type": "display_data"
    }
   ],
   "source": [
    "antenna1 = X_train[1001,:,0]\n",
    "antenna2 = X_train[1001,:,1]\n",
    "antenna3 = X_train[1001,:,2]\n",
    "plt.plot(antenna1,'r-')\n",
    "plt.plot(antenna2,'b--')\n",
    "plt.plot(antenna3,'g-.')\n",
    "plt.title('Dust Signal Example')\n",
    "plt.xlabel('Time Samples')\n",
    "plt.ylabel('Normaized Voltage')\n",
    "plt.show()"
   ]
  },
  {
   "cell_type": "markdown",
   "id": "ae245199-6228-4499-a206-d28f3b8b6016",
   "metadata": {},
   "source": [
    "7 - Define the CNN arcitecture (suggested by Wang et al. (2017)) and plot the CNN arcitecture in a diagram "
   ]
  },
  {
   "cell_type": "code",
   "execution_count": 11,
   "id": "472207e5-ffff-4205-8eb6-0af07b098649",
   "metadata": {},
   "outputs": [],
   "source": [
    "# Define the CNN arcitecture\n",
    "def make_model(input_shape):\n",
    "    input_layer = keras.layers.Input(input_shape)\n",
    "\n",
    "    conv1 = keras.layers.Conv1D(filters=128, kernel_size=8,strides=1, padding=\"same\")(input_layer)\n",
    "    conv1 = keras.layers.BatchNormalization()(conv1)\n",
    "    conv1 = keras.layers.ReLU()(conv1)\n",
    "\n",
    "    conv2 = keras.layers.Conv1D(filters=256, kernel_size=5,strides=1, padding=\"same\")(conv1)\n",
    "    conv2 = keras.layers.BatchNormalization()(conv2)\n",
    "    conv2 = keras.layers.ReLU()(conv2)\n",
    "\n",
    "    conv3 = keras.layers.Conv1D(filters=128, kernel_size=3,strides=1, padding=\"same\")(conv2)\n",
    "    conv3 = keras.layers.BatchNormalization()(conv3)\n",
    "    conv3 = keras.layers.ReLU()(conv3)\n",
    "\n",
    "    gap = keras.layers.GlobalAveragePooling1D()(conv3)\n",
    "    output_layer = keras.layers.Dense(2, activation=\"softmax\")(gap)\n",
    "\n",
    "    return keras.models.Model(inputs=input_layer, outputs=output_layer)\n",
    "\n",
    "model = make_model(input_shape=X_train.shape[1:])\n",
    "\n",
    "# Plot a diagram of the model arcitecture \n",
    "keras.utils.plot_model(model, show_shapes=True)\n",
    "\n",
    "# Numer of times to run through the training data\n",
    "epochs = 225\n",
    "# Number of samples to run through before updating the network parameters \n",
    "batch_size = 64\n",
    "\n",
    "callbacks = [\n",
    "    keras.callbacks.ModelCheckpoint(\n",
    "        \"run_GitHub.h5\", save_best_only=True, monitor=\"val_loss\"\n",
    "    ),\n",
    "    keras.callbacks.ReduceLROnPlateau(\n",
    "        monitor=\"val_loss\", factor=0.1, patience=100, min_lr=0.000001\n",
    "    ),\n",
    "    keras.callbacks.EarlyStopping(monitor=\"val_loss\", patience=300, verbose=1),\n",
    "]\n",
    "model.compile(\n",
    "    optimizer=\"adam\",\n",
    "    loss=\"sparse_categorical_crossentropy\",\n",
    "    metrics=[\"sparse_categorical_accuracy\"],\n",
    ")\n",
    "history = model.fit(\n",
    "    X_train,\n",
    "    Y_train,\n",
    "    batch_size=batch_size,\n",
    "    epochs=epochs,\n",
    "    callbacks=callbacks,\n",
    "    validation_split=0.2,\n",
    "    verbose=1,\n",
    ")"
   ]
  },
  {
   "cell_type": "markdown",
   "id": "c52ecd9f-bdcf-4e89-9f74-ad4c45574aee",
   "metadata": {},
   "source": [
    "8 - Test the trained model using the testing data and print results "
   ]
  },
  {
   "cell_type": "code",
   "execution_count": 15,
   "id": "15481929-a329-4093-bbe2-a19e45a1a716",
   "metadata": {},
   "outputs": [
    {
     "name": "stdout",
     "output_type": "stream",
     "text": [
      " 4/19 [=====>........................] - ETA: 0s - loss: 0.0761 - sparse_categorical_accuracy: 0.9688"
     ]
    },
    {
     "name": "stderr",
     "output_type": "stream",
     "text": [
      "2022-07-07 17:02:38.146656: I tensorflow/core/grappler/optimizers/custom_graph_optimizer_registry.cc:113] Plugin optimizer for device_type GPU is enabled.\n"
     ]
    },
    {
     "name": "stdout",
     "output_type": "stream",
     "text": [
      "19/19 [==============================] - 1s 21ms/step - loss: 0.1405 - sparse_categorical_accuracy: 0.9567\n",
      "Test accuracy 0.9566667079925537\n",
      "Test loss 0.14052154123783112\n"
     ]
    }
   ],
   "source": [
    "model = keras.models.load_model(\"run_GitHub.h5\")\n",
    "test_loss, test_acc = model.evaluate(X_test, Y_test)\n",
    "print(\"Test accuracy\", test_acc)\n",
    "print(\"Test loss\", test_loss)"
   ]
  },
  {
   "cell_type": "markdown",
   "id": "975ef42c-79e5-41a1-aaae-6eb7e1c44e24",
   "metadata": {},
   "source": [
    "9 - Plot the validation accuracy at each epoch"
   ]
  },
  {
   "cell_type": "code",
   "execution_count": 16,
   "id": "fe33206a-a3d5-4173-ae57-4a23a40064f4",
   "metadata": {},
   "outputs": [
    {
     "data": {
      "image/png": "[encoded data removed]",
      "text/plain": [
       "<Figure size 432x288 with 1 Axes>"
      ]
     },
     "metadata": {
      "needs_background": "light"
     },
     "output_type": "display_data"
    }
   ],
   "source": [
    "metric = \"sparse_categorical_accuracy\"\n",
    "plt.figure()\n",
    "plt.plot(history.history[metric])\n",
    "plt.plot(history.history[\"val_\" + metric])\n",
    "plt.title(\"model \" + metric)\n",
    "plt.ylabel(metric, fontsize=\"large\")\n",
    "plt.xlabel(\"epoch\", fontsize=\"large\")\n",
    "plt.legend([\"train\", \"val\"], loc=\"best\")\n",
    "plt.show()\n",
    "plt.close()"
   ]
  },
  {
   "cell_type": "markdown",
   "id": "19f140a4-f0d3-4350-90c6-0592b3f020e4",
   "metadata": {},
   "source": [
    "10 - Print number of correctly/erroneously classified observations and print confusion matrix  "
   ]
  },
  {
   "cell_type": "code",
   "execution_count": 17,
   "id": "1e746e1b-0e29-46ab-819b-eee777000091",
   "metadata": {},
   "outputs": [
    {
     "name": "stderr",
     "output_type": "stream",
     "text": [
      "2022-07-07 17:02:51.201492: I tensorflow/core/grappler/optimizers/custom_graph_optimizer_registry.cc:113] Plugin optimizer for device_type GPU is enabled.\n"
     ]
    },
    {
     "name": "stdout",
     "output_type": "stream",
     "text": [
      "Total 600\n",
      "Correct 574\n",
      "Wrong 26\n"
     ]
    },
    {
     "data": {
      "text/plain": [
       "array([[344,  18],\n",
       "       [  8, 230]])"
      ]
     },
     "execution_count": 17,
     "metadata": {},
     "output_type": "execute_result"
    }
   ],
   "source": [
    "Y_pred = model.predict(X_test)\n",
    "Y_pred = [0 if y[0]>=0.5 else 1 for y in Y_pred]\n",
    "\n",
    "total = 0\n",
    "correct = 0\n",
    "wrong = 0\n",
    "for i in range(len(Y_pred)):\n",
    "  total=total+1\n",
    "  if(Y_test.at[i,0] == Y_pred[i]):\n",
    "    correct=correct+1\n",
    "  else:\n",
    "    wrong=wrong+1\n",
    "\n",
    "print(\"Total \" + str(total))\n",
    "print(\"Correct \" + str(correct))\n",
    "print(\"Wrong \" + str(wrong))\n",
    "\n",
    "from sklearn.metrics import confusion_matrix\n",
    "confusion_matrix(Y_test, Y_pred)"
   ]
  },
  {
   "cell_type": "markdown",
   "id": "b7a7d4f8-550f-4c1d-81b4-3c5d234c8070",
   "metadata": {},
   "source": [
    "11 - Print model summary and save the trained network"
   ]
  },
  {
   "cell_type": "code",
   "execution_count": 18,
   "id": "aab9a3ce-9339-42d6-9467-f146cc6d0d30",
   "metadata": {},
   "outputs": [
    {
     "name": "stdout",
     "output_type": "stream",
     "text": [
      "Model: \"model\"\n",
      "_________________________________________________________________\n",
      " Layer (type)                Output Shape              Param #   \n",
      "=================================================================\n",
      " input_1 (InputLayer)        [(None, 4096, 3)]         0         \n",
      "                                                                 \n",
      " conv1d (Conv1D)             (None, 4096, 128)         3200      \n",
      "                                                                 \n",
      " batch_normalization (BatchN  (None, 4096, 128)        512       \n",
      " ormalization)                                                   \n",
      "                                                                 \n",
      " re_lu (ReLU)                (None, 4096, 128)         0         \n",
      "                                                                 \n",
      " conv1d_1 (Conv1D)           (None, 4096, 256)         164096    \n",
      "                                                                 \n",
      " batch_normalization_1 (Batc  (None, 4096, 256)        1024      \n",
      " hNormalization)                                                 \n",
      "                                                                 \n",
      " re_lu_1 (ReLU)              (None, 4096, 256)         0         \n",
      "                                                                 \n",
      " conv1d_2 (Conv1D)           (None, 4096, 128)         98432     \n",
      "                                                                 \n",
      " batch_normalization_2 (Batc  (None, 4096, 128)        512       \n",
      " hNormalization)                                                 \n",
      "                                                                 \n",
      " re_lu_2 (ReLU)              (None, 4096, 128)         0         \n",
      "                                                                 \n",
      " global_average_pooling1d (G  (None, 128)              0         \n",
      " lobalAveragePooling1D)                                          \n",
      "                                                                 \n",
      " dense (Dense)               (None, 2)                 258       \n",
      "                                                                 \n",
      "=================================================================\n",
      "Total params: 268,034\n",
      "Trainable params: 267,010\n",
      "Non-trainable params: 1,024\n",
      "_________________________________________________________________\n"
     ]
    }
   ],
   "source": [
    "model.summary()\n",
    "model.save(\"model_run_GitHub\")"
   ]
  }
 ],
 "metadata": {
  "kernelspec": {
   "display_name": "Tensorflow",
   "language": "python",
   "name": "tensorflow"
  },
  "language_info": {
   "codemirror_mode": {
    "name": "ipython",
    "version": 3
   },
   "file_extension": ".py",
   "mimetype": "text/x-python",
   "name": "python",
   "nbconvert_exporter": "python",
   "pygments_lexer": "ipython3",
   "version": "3.8.12"
  },
  "toc-autonumbering": true
 },
 "nbformat": 4,
 "nbformat_minor": 5
}
